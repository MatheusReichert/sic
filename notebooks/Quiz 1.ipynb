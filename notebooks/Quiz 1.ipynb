{
 "cells": [
  {
   "cell_type": "code",
   "execution_count": null,
   "metadata": {
    "collapsed": true,
    "pycharm": {
     "name": "#%%\n"
    }
   },
   "outputs": [],
   "source": [
    "#enunciado confuso\n",
    "print(1 + 2 + 3 + 4 + 5)\n",
    "#ou\n",
    "print(1, 2, 3, 4, 5)"
   ]
  },
  {
   "cell_type": "code",
   "execution_count": 4,
   "outputs": [
    {
     "name": "stdout",
     "output_type": "stream",
     "text": [
      "2601\n"
     ]
    }
   ],
   "source": [
    "s = 0\n",
    "n = 1\n",
    "while n < 100:\n",
    "    n += 2\n",
    "    s += n\n",
    "\n",
    "print(s)"
   ],
   "metadata": {
    "collapsed": false,
    "pycharm": {
     "name": "#%%\n"
    }
   }
  },
  {
   "cell_type": "code",
   "execution_count": null,
   "outputs": [],
   "source": [
    "n = int(input(\"Digite um numero inteiro positivo\"))\n",
    "if n % 2 == 0:\n",
    "    print(\"Par\")\n",
    "else:\n",
    "    print(\"impar\")"
   ],
   "metadata": {
    "collapsed": false,
    "pycharm": {
     "name": "#%%\n"
    }
   }
  },
  {
   "cell_type": "code",
   "execution_count": null,
   "outputs": [],
   "source": [
    "print(\"*\" * 10)\n",
    "print(\"#\" * 10)"
   ],
   "metadata": {
    "collapsed": false,
    "pycharm": {
     "name": "#%%\n"
    }
   }
  },
  {
   "cell_type": "code",
   "execution_count": null,
   "outputs": [],
   "source": [
    "nome = input(\"Digite seu nome\")\n",
    "endereco = input(\"Digite seu endereco\")\n",
    "print(\"Nome: \" + nome, \"Endereco: \" + endereco, sep=\"\\n\")"
   ],
   "metadata": {
    "collapsed": false,
    "pycharm": {
     "name": "#%%\n"
    }
   }
  },
  {
   "cell_type": "code",
   "execution_count": null,
   "outputs": [],
   "source": [
    "x = int(input(\"Digite o valor de x\"))\n",
    "y = int(input(\"DIgite o valor de y\"))\n",
    "\n",
    "print(\"1\") if x == 0 else print(\"0\")\n",
    "print(\"1\") if y == 0 else print(\"0\")\n",
    "print(\"True\") if x == 0 else print(\"False\")\n",
    "print(\"True\") if y == 0 else print(\"False\")"
   ],
   "metadata": {
    "collapsed": false,
    "pycharm": {
     "name": "#%%\n"
    }
   }
  },
  {
   "cell_type": "code",
   "execution_count": 6,
   "outputs": [
    {
     "name": "stdout",
     "output_type": "stream",
     "text": [
      "Os números inseridos em ordem crescente são: 1 2 3 4 5 6 7 8 9 "
     ]
    }
   ],
   "source": [
    "# Escreva um programa que leia 2 entradas do usuário e as imprima do menor para o maior.\n",
    "\n",
    "def mergeSort(array):\n",
    "    if len(array) > 1:\n",
    "        mid = len(array) // 2\n",
    "        lefthalf = array[:mid]\n",
    "        righthalf = array[mid:]\n",
    "\n",
    "        mergeSort(lefthalf)\n",
    "        mergeSort(righthalf)\n",
    "\n",
    "        i = 0\n",
    "        j = 0\n",
    "        k = 0\n",
    "        while i < len(lefthalf) and j < len(righthalf):\n",
    "            if lefthalf[i] < righthalf[j]:\n",
    "                array[k] = lefthalf[i]\n",
    "                i = i + 1\n",
    "            else:\n",
    "                array[k] = righthalf[j]\n",
    "                j = j + 1\n",
    "            k = k + 1\n",
    "\n",
    "        while i < len(lefthalf):\n",
    "            array[k] = lefthalf[i]\n",
    "            i = i + 1\n",
    "            k = k + 1\n",
    "\n",
    "        while j < len(righthalf):\n",
    "            array[k] = righthalf[j]\n",
    "            j = j + 1\n",
    "            k = k + 1\n",
    "    return array\n",
    "\n",
    "\n",
    "\n",
    "x = input().split(\" \")\n",
    "# x.sort()\n",
    "x = mergeSort(x)\n",
    "\n",
    "print(\"Os números inseridos em ordem crescente são:\", end=\" \")\n",
    "for value in x:\n",
    "    print(value, end=\" \")"
   ],
   "metadata": {
    "collapsed": false,
    "pycharm": {
     "name": "#%%\n"
    }
   }
  },
  {
   "cell_type": "code",
   "execution_count": null,
   "outputs": [],
   "source": [],
   "metadata": {
    "collapsed": false,
    "pycharm": {
     "name": "#%%\n"
    }
   }
  },
  {
   "cell_type": "code",
   "execution_count": 1,
   "outputs": [
    {
     "name": "stdout",
     "output_type": "stream",
     "text": [
      "Você é maior de idade e casado.\n"
     ]
    }
   ],
   "source": [
    "idade = bool(int(input(\"Você é maior de idade? (digite 1 se sim, 0 se não):\")))\n",
    "estado = bool(int(input(\"Você é casado(a)? (digite 1 se sim, 0 se não):\")))\n",
    "\n",
    "resp = \"Você é \"\n",
    "\n",
    "if idade:\n",
    "    resp += \"maior de idade e \"\n",
    "else:\n",
    "    resp += \"menor de idade e \"\n",
    "\n",
    "if estado:\n",
    "    resp += \"casado.\"\n",
    "else:\n",
    "    resp += \"solteiro.\"\n",
    "\n",
    "print(resp)"
   ],
   "metadata": {
    "collapsed": false,
    "pycharm": {
     "name": "#%%\n"
    }
   }
  },
  {
   "cell_type": "code",
   "execution_count": null,
   "outputs": [],
   "source": [
    "for x in range(2, 12):\n",
    "    ehPrimo = True\n",
    "    for y in range(2, 12):\n",
    "        if x % y == 0 and x != y:\n",
    "            ehPrimo = False\n",
    "            break\n",
    "    print(x, \"é primo\") if ehPrimo else print(x, \"é composto\")"
   ],
   "metadata": {
    "collapsed": false,
    "pycharm": {
     "name": "#%%\n"
    }
   }
  },
  {
   "cell_type": "code",
   "execution_count": null,
   "outputs": [],
   "source": [
    "for x in range(100, 999):\n",
    "    soma = 0\n",
    "    vec = list(str(x))\n",
    "    for y in vec:\n",
    "        soma += int(y) ** 3\n",
    "    if soma == x:\n",
    "        print(\"{} é um número Armstrong, pois {}³+{}³+{}³ = {}+{}+{} = {}\"\n",
    "              .format(x, vec[0], vec[1], vec[2], int(vec[0]) ** 3, int(vec[1]) ** 3, int(vec[2]) ** 3, soma))"
   ],
   "metadata": {
    "collapsed": false,
    "pycharm": {
     "name": "#%%\n"
    }
   }
  },
  {
   "cell_type": "code",
   "execution_count": 1,
   "outputs": [
    {
     "name": "stdout",
     "output_type": "stream",
     "text": [
      "C̵̦͚͇̺̰͊̎o̶͓͖̩̦̬͔̦̲͈̫̲̤̰̫̣͙̞̜̅̆̐͑̋̾͂́͐͘n̶̬͙̞͊̓ċ̷̨̧̡̧̡̛̭̹͍̣̯͇̦͎͍̖̱͔̝̺̞̦̬̘̭̞̜̌̍̃̎̄͌̾́͊͐͒̆̽̿̀̌͗̇͂͒͆̅͛͗̊̔̔̐̕̕͘͝͝͝ơ̴̧̢̧̛͔̭͓̗̩̭͍͍̫̫̲̺̦̙͉͇̝̦̼̪̥͐̾̂͛̈̎̽̿̃̍́̾̈́̂̾̽̀̇̔̂̀̈́͑̀͛̑̉̓̈̅̃̀͌͑͘̕͘̕̚̚͜͠͝r̴̢̡̢̢͚̥̯̩̜̹̜̝̞̥̗͓̝̩̰̺̫̰̪̦̬̞̮̳͓̼̳̠͚̖̄̒̔̃̌̔̋̑͂̿͌̐̒͒̎̍̂̎̾͗̀̿̀̌͑̇̊̃͐̄̊̾́͛̀̑̒͐̑̽̕͜͜͝͝͝d̶̢̨̡̛̹̯͇̘̠̺͎̞̬̠̹̮̮̝̙͎̦͙̤̝̹͇̰̹̝̖̜͈͖̙̜̯̭͉͕̠̋͊̐̋̋̉̋̏̔̌̍̈́͒́͒͂̾̀̓͌̀̑́̋͌̉̿͐̂̒͂́́̄̽̊͊̈́̃͋͊̒͑̽̚͜͝͝͝ǫ̴̛͓͉̐̋̐͗͂̉̽̏̎̽͌̿͗̎͊͋̿̀͆̓͠͠\n"
     ]
    }
   ],
   "source": [],
   "metadata": {
    "collapsed": false,
    "pycharm": {
     "name": "#%%\n"
    }
   }
  },
  {
   "cell_type": "code",
   "execution_count": null,
   "outputs": [],
   "source": [],
   "metadata": {
    "collapsed": false,
    "pycharm": {
     "name": "#%%\n"
    }
   }
  }
 ],
 "metadata": {
  "kernelspec": {
   "display_name": "Python 3",
   "language": "python",
   "name": "python3"
  },
  "language_info": {
   "codemirror_mode": {
    "name": "ipython",
    "version": 2
   },
   "file_extension": ".py",
   "mimetype": "text/x-python",
   "name": "python",
   "nbconvert_exporter": "python",
   "pygments_lexer": "ipython2",
   "version": "2.7.6"
  }
 },
 "nbformat": 4,
 "nbformat_minor": 0
}