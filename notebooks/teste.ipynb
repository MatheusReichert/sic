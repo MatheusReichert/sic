{
 "cells": [
  {
   "cell_type": "markdown",
   "source": [
    "ATÉ QUINTA-FEIRA PARA REALIZAR! Proposta do programa: Faça um programa que pergunte o nome do usuário, pergunte quais foram as notas dela num bimestre (p1+p2+trabalho por todos os bimestres), a partir disso some todas as notas e calcule a média da pessoa e constate ao usuário se ela ficou com nota inferior a 4 (reprovada), entre 4 e 5,99 (recuperção), acima de 6 (aprovada)."
   ],
   "metadata": {
    "collapsed": false,
    "pycharm": {
     "name": "#%% md\n"
    }
   }
  },
  {
   "cell_type": "code",
   "execution_count": 11,
   "outputs": [
    {
     "name": "stdout",
     "output_type": "stream",
     "text": [
      "mm sua média dos 4 bimestres foi  1.0\n",
      "Vish, reprovou :/\n"
     ]
    }
   ],
   "source": [
    "nome = input(\"Digite seu nome: \")\n",
    "soma = 0.0\n",
    "somaTotal = 0.0\n",
    "alunos = list\n",
    "\n",
    "\n",
    "for bimestre in range(0, 4):\n",
    "\n",
    "    media = input()\n",
    "alunos(nome,\"sua média dos 4 bimestres foi \",round(media,2))\n",
    "\n",
    "if media > 6:\n",
    "    alunos.append(\"Parabens voce foi aprovado!\")\n",
    "elif media > 4.9:\n",
    "    alunos.append(\"Parabens voce foi promovido a RECUPERAÇÂO!\")\n",
    "else:\n",
    "    alunos.append(\"Vish, reprovou :/\")"
   ],
   "metadata": {
    "collapsed": false,
    "pycharm": {
     "name": "#%%\n"
    }
   }
  },
  {
   "cell_type": "code",
   "execution_count": 12,
   "outputs": [
    {
     "name": "stdout",
     "output_type": "stream",
     "text": [
      "153 é um número Armstrong, pois 1³+5³+3³ = 1+125+27 = 153\n",
      "370 é um número Armstrong, pois 3³+7³+0³ = 27+343+0 = 370\n",
      "371 é um número Armstrong, pois 3³+7³+1³ = 27+343+1 = 371\n",
      "407 é um número Armstrong, pois 4³+0³+7³ = 64+0+343 = 407\n"
     ]
    }
   ],
   "source": [
    "for x in range(100, 999):\n",
    "    soma = 0\n",
    "    vec = list(str(x))\n",
    "    for y in vec:\n",
    "        soma += int(y) ** 3\n",
    "    if soma == x:\n",
    "        print(\"{} é um número Armstrong, pois {}³+{}³+{}³ = {}+{}+{} = {}\"\n",
    "              .format(x, vec[0], vec[1], vec[2], int(vec[0]) ** 3, int(vec[1]) ** 3, int(vec[2]) ** 3, soma))"
   ],
   "metadata": {
    "collapsed": false,
    "pycharm": {
     "name": "#%%\n"
    }
   }
  },
  {
   "cell_type": "code",
   "execution_count": null,
   "outputs": [],
   "source": [],
   "metadata": {
    "collapsed": false,
    "pycharm": {
     "name": "#%%\n"
    }
   }
  }
 ],
 "metadata": {
  "kernelspec": {
   "display_name": "Python 3",
   "language": "python",
   "name": "python3"
  },
  "language_info": {
   "codemirror_mode": {
    "name": "ipython",
    "version": 2
   },
   "file_extension": ".py",
   "mimetype": "text/x-python",
   "name": "python",
   "nbconvert_exporter": "python",
   "pygments_lexer": "ipython2",
   "version": "2.7.6"
  }
 },
 "nbformat": 4,
 "nbformat_minor": 0
}